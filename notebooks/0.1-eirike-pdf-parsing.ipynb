{
 "cells": [
  {
   "cell_type": "code",
   "execution_count": 11,
   "metadata": {},
   "outputs": [
    {
     "name": "stdout",
     "output_type": "stream",
     "text": [
      "1: CHAPTER\n",
      "\n",
      "\n",
      "\n",
      "2: The Rise of Platform Ecosystems 1\n",
      "\n",
      "\n",
      "\n",
      "3: May you live in interesting times.\n",
      "Ancient Chinese curse\n",
      "\n",
      "\n",
      "\n",
      "4: IN THIS CHAPTER\n",
      "\n",
      "\n",
      "\n",
      "5: (cid:129) What platforms are and what they are not\n",
      "\n",
      "\n",
      "\n",
      "6: (cid:129) Core components of platform ecosystems\n",
      "\n",
      "\n",
      "\n",
      "7: (cid:129) Drivers of the migration toward platforms in diverse industries\n",
      "\n",
      "\n",
      "\n",
      "8: 1.1 THE WAR OF ECOSYSTEMS\n",
      "Blackberry had everything going right. It had fanatically loyal customers and its products were inno-\n",
      "vative, well engineered, durable, and got raving reviews from critics. After years of commanding a\n",
      "lion’s share (about 50%) of the smartphone market that it largely created, it had trouble breaking past\n",
      "a 1% market share with its newest products by 2012, leading to its subsequent downfall Blackberry\n",
      "assumed that the problem was Apple and then Google—both industry outsiders—who had since\n",
      "entered the fray. So, it did what made sense: Price more competitively, invest more in developing\n",
      "new products, upgrade its operating system, and step up marketing. Nothing worked. Its error was fail-\n",
      "ing to realize that the basis for competition had changed: It was no longer Blackberry against Apple\n",
      "smartphones. Instead, it was the Blackberry ecosystem against the iOS ecosystem. It was not one prod-\n",
      "uct against another but Blackberry’s army of 8000 external innovators against Apple’s 200,000. Black-\n",
      "berry’s mistake was failing to realize the ecosystem on which its continued success depended. All three\n",
      "companies made good products, but the lack of enough innovative apps muted Blackberry’s market\n",
      "potential. It was already too late to catch up by the time Blackberry realized that the competitive blue-\n",
      "print had shifted. The Red Queen effect1—the need to run faster just to stay in the same place—had\n",
      "taken over.\n",
      "\n",
      "\n",
      "\n",
      "9: Platforms are creating an entirely new blueprint for competition—one that puts ecosystems in head-\n",
      "to-head competition. The ongoing migration from product and service competition to platform-based\n",
      "competition in many industries and markets is driven by forces—packetization of products, services,\n",
      "and activities; software embedding and ubiquitous networking of everyday objects; and the increased\n",
      "need for specialization—that are increasingly infusing characteristics of the software industry into\n",
      "\n",
      "\n",
      "\n",
      "10: ☆“To view the full reference list for the book, click here or see page 283.”\n",
      "1As the next chapter explains, one competitor successfully adopting a platform-centric approach can compress an entire\n",
      "industry’s innovation clockspeed, requiring much greater effort just to stay in the same place.\n",
      "\n",
      "\n",
      "\n"
     ]
    }
   ],
   "source": [
    "\n",
    "from typing import Iterator, List\n",
    "from pdfminer.high_level import extract_pages\n",
    "from pdfminer.layout import LTTextContainer, LTPage\n",
    "from collections import Counter\n",
    "\n",
    "def read_file(file_name):\n",
    "    file = extract_pages(file_name)\n",
    "    return file\n",
    "    \n",
    "    \n",
    "def get_paragraphs(file: Iterator[LTPage]) -> List[dict]:\n",
    "    paragraphs = []\n",
    "    page_num = 0\n",
    "    paragraph_id = 0\n",
    "    for page_layout in file:\n",
    "        page_num += 1\n",
    "        \n",
    "        for element in page_layout:\n",
    "            if isinstance(element, LTTextContainer):\n",
    "                paragraphs.append({\n",
    "                    'id': paragraph_id,\n",
    "                    'page': page_num,\n",
    "                    'paragraph': element.get_text()\n",
    "                })\n",
    "                paragraph_id += 1\n",
    "                \n",
    "    return paragraphs\n",
    "\n",
    "def get_terms(file: Iterator[LTPage]) -> List[dict]:\n",
    "    pass\n"
   ]
  },
  {
   "cell_type": "code",
   "execution_count": null,
   "metadata": {},
   "outputs": [],
   "source": [
    "in_file = read_file('../data/raw/Chapter-1---The-Rise-of-Platform-Ecosystems_2014_Platform-Ecosystems.pdf')\n",
    "paragraphs = get_paragraphs(in_file)\n",
    "\n",
    "for i in range(10):\n",
    "    print(f\"{i + 1}: {paragraphs[i]['paragraph']}\\n\\n\")"
   ]
  },
  {
   "cell_type": "code",
   "execution_count": null,
   "metadata": {},
   "outputs": [],
   "source": []
  },
  {
   "cell_type": "markdown",
   "metadata": {},
   "source": []
  }
 ],
 "metadata": {
  "kernelspec": {
   "display_name": "Python 3",
   "language": "python",
   "name": "python3"
  },
  "language_info": {
   "codemirror_mode": {
    "name": "ipython",
    "version": 3
   },
   "file_extension": ".py",
   "mimetype": "text/x-python",
   "name": "python",
   "nbconvert_exporter": "python",
   "pygments_lexer": "ipython3",
   "version": "3.11.4"
  }
 },
 "nbformat": 4,
 "nbformat_minor": 2
}
