{
 "cells": [
  {
   "cell_type": "code",
   "execution_count": 10,
   "metadata": {},
   "outputs": [
    {
     "data": {
      "text/plain": [
       "<generator object extract_pages at 0x109a178b0>"
      ]
     },
     "execution_count": 10,
     "metadata": {},
     "output_type": "execute_result"
    }
   ],
   "source": [
    "from typing import Iterator, List\n",
    "from pdfminer.high_level import extract_pages\n",
    "from pdfminer.layout import LTTextContainer, LTPage\n",
    "\n",
    "def read_file(file_name):\n",
    "    file = extract_pages(file_name)\n",
    "    return file\n",
    "    \n",
    "    \n",
    "def get_paragraphs(file: Iterator[LTPage]) -> List[dict]:\n",
    "    paragraphs = []\n",
    "    page_num = 0\n",
    "    paragraph_id = 0\n",
    "    for page_layout in file:\n",
    "        page_num += 1\n",
    "        \n",
    "        for element in page_layout:\n",
    "            if isinstance(element, LTTextContainer):\n",
    "                paragraphs.append({\n",
    "                    'id': paragraph_id,\n",
    "                    'page': page_num,\n",
    "                    'paragraph': element.get_text()\n",
    "                })\n",
    "                paragraph_id += 1\n",
    "                \n",
    "    return paragraphs\n",
    "\n",
    "\n",
    "\n",
    "\n",
    "\n",
    "\n",
    "in_file = read_file('../data/raw/Chapter-1---The-Rise-of-Platform-Ecosystems_2014_Platform-Ecosystems.pdf')\n",
    "paragraphs = get_paragraphs(in_file)\n",
    "\n",
    "for i in range(10):\n",
    "    print(f\"{i + 1}: {paragraphs[i]['paragraph']}\\n\\n\")\n",
    "\n"
   ]
  },
  {
   "cell_type": "code",
   "execution_count": null,
   "metadata": {},
   "outputs": [],
   "source": []
  },
  {
   "cell_type": "markdown",
   "metadata": {},
   "source": []
  }
 ],
 "metadata": {
  "kernelspec": {
   "display_name": "Python 3",
   "language": "python",
   "name": "python3"
  },
  "language_info": {
   "codemirror_mode": {
    "name": "ipython",
    "version": 3
   },
   "file_extension": ".py",
   "mimetype": "text/x-python",
   "name": "python",
   "nbconvert_exporter": "python",
   "pygments_lexer": "ipython3",
   "version": "3.11.4"
  }
 },
 "nbformat": 4,
 "nbformat_minor": 2
}
